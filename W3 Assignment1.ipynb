{
 "cells": [
  {
   "cell_type": "markdown",
   "id": "9ab3acc3-9514-4636-809f-9bdabfd17640",
   "metadata": {},
   "source": [
    "Q1. Which keyword is used to create a function? Create a function to return a list of odd numbers in the range of 1 to 25.\n"
   ]
  },
  {
   "cell_type": "markdown",
   "id": "6af96dd5-a30d-4a98-bfe3-2efcaf8e223c",
   "metadata": {},
   "source": [
    "The def keyword is used to create, (or define) a function.\n"
   ]
  },
  {
   "cell_type": "code",
   "execution_count": 1,
   "id": "871ad17a-25bd-484b-bc33-a2c412eb07c1",
   "metadata": {},
   "outputs": [
    {
     "name": "stdout",
     "output_type": "stream",
     "text": [
      "odd number\n",
      "1\n",
      "odd number\n",
      "3\n",
      "odd number\n",
      "5\n",
      "odd number\n",
      "7\n",
      "odd number\n",
      "9\n",
      "odd number\n",
      "11\n",
      "odd number\n",
      "13\n",
      "odd number\n",
      "15\n",
      "odd number\n",
      "17\n",
      "odd number\n",
      "19\n",
      "odd number\n",
      "21\n",
      "odd number\n",
      "23\n",
      "odd number\n",
      "25\n"
     ]
    }
   ],
   "source": [
    "a= list(range(1,26))\n",
    "def oddnumber():\n",
    "    a = list(range(1,26))\n",
    "for i in a:   \n",
    "      \n",
    "        if i%2 != 0:\n",
    "            print (\"odd number\")\n",
    "            print(i) \n"
   ]
  },
  {
   "cell_type": "markdown",
   "id": "11bd4001-3450-4913-bb79-031f4bcb2710",
   "metadata": {},
   "source": [
    "Q2. Why *args and **kwargs is used in some functions? Create a function each for *args and **kwargs to demonstrate their use.\n",
    "\n",
    "The special syntax *args in function definitions in Python is used to pass a variable number of arguments to a function. It is used to pass a non-keyworded, variable-length argument list. What *args allows you to do is take in more arguments than the number of formal arguments that you previously defined. With *args, any number of extra arguments can be tacked on to your current formal parameters (including zero extra arguments)\n",
    "The special syntax **kwargs in function definitions in Python is used to pass a keyworded, variable-length argument list. We use the name kwargs with the double star. The reason is that the double star allows us to pass through keyword arguments (and any number of them)\n",
    "\n",
    "Eg. 1. def test1(*args):\n",
    "                   return args\n",
    "eg. test1(“sand”,[1,2,3,4], (1,2,3,4,5)) it can take easily\n",
    "2. def test5(**kwargs):\n",
    "              return kwargs\n",
    "eg. test5( a= 34, b=23, c=[1,2,3,4], d= (“sand”, “pwskills”)\n"
   ]
  },
  {
   "cell_type": "markdown",
   "id": "4e0ec811-7bf8-4bda-a072-3bffc89cd874",
   "metadata": {},
   "source": [
    "Q3. What is an iterator in python? Name the method used to initialise the iterator object and the method used for iteration. Use these methods to print the first five elements of the given list [2, 4, 6, 8, 10, 12, 14, 16, 18, 20].\n",
    "\n",
    "Iterators are objects that can be iterated on, which means that the user can go over their values one by one. In Python, an iterator is an object used to iterate across iterable objects such as lists, tuples, dicts, and sets. The iter() method is used to initialize the iterator object. Iteration is accomplished through the usage of the next() method\n",
    "Iterating Through an Iterator\n",
    "To manually iterate through all the items of an iterator, we can use the next() function or the __next__() method. When we reach the end of the loop and there is no more data to return, the StopIteration Exception is thrown\n",
    "Working of for loop for Iterators\n",
    "The above program can print the iterator values by using a for loop as well. The for loop is a more elegant approach to automatically iterating. We may use this to iterate over any object that can yield an iterator, such as a list, string, or file. For example,\n",
    "Building Custom Iterators\n",
    "Python allows users to build their own Python iterator from the ground up. All that remains is to implement the __iter__() and __next__() methods. The iterator object is returned by the __iter__() method. Some initialization can be done if necessary. The next item in the series must be returned using the __next__() method. It must raise StopIteration when it reaches the conclusion of the loop and in future calls.\n",
    "Python Infinite Iterators\n",
    "There may be times when we want our iterator to stop unless a certain condition is met. In such cases, we employ endless iterators. Because we don’t set a limit on it and it doesn’t raise an exception, an infinite iterator never comes to a halt. These iterators must be intentionally stopped.\n",
    "Eg. list1 = iter([2, 4, 6, 8, 10, 12, 14, 16, 18, 20])\n",
    "print(next(list1)) \n",
    "print(next(list1)) \n",
    "print(next(list1)) \n",
    "print(next(list1)) \n",
    "print(next(list1)) \n"
   ]
  },
  {
   "cell_type": "code",
   "execution_count": null,
   "id": "1d3aca2b-da8c-417c-b083-79d78d94958a",
   "metadata": {},
   "outputs": [],
   "source": []
  }
 ],
 "metadata": {
  "kernelspec": {
   "display_name": "Python 3 (ipykernel)",
   "language": "python",
   "name": "python3"
  },
  "language_info": {
   "codemirror_mode": {
    "name": "ipython",
    "version": 3
   },
   "file_extension": ".py",
   "mimetype": "text/x-python",
   "name": "python",
   "nbconvert_exporter": "python",
   "pygments_lexer": "ipython3",
   "version": "3.10.8"
  }
 },
 "nbformat": 4,
 "nbformat_minor": 5
}
